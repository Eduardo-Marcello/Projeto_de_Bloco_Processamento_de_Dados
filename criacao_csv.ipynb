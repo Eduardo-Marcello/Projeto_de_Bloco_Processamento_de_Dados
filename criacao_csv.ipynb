{
 "cells": [
  {
   "cell_type": "markdown",
   "metadata": {},
   "source": [
    "## Importação das Bibliotecas"
   ]
  },
  {
   "cell_type": "code",
   "execution_count": 2,
   "metadata": {},
   "outputs": [
    {
     "name": "stdout",
     "output_type": "stream",
     "text": [
      "Collecting pandas\n",
      "  Downloading pandas-2.1.2-cp39-cp39-win_amd64.whl (10.8 MB)\n",
      "     ---------------------------------------- 0.0/10.8 MB ? eta -:--:--\n",
      "     ----- ---------------------------------- 1.4/10.8 MB 28.5 MB/s eta 0:00:01\n",
      "     ------------- -------------------------- 3.7/10.8 MB 33.5 MB/s eta 0:00:01\n",
      "     ---------------------- ----------------- 6.0/10.8 MB 35.0 MB/s eta 0:00:01\n",
      "     ------------------------------- -------- 8.4/10.8 MB 35.7 MB/s eta 0:00:01\n",
      "     ------------------------------------- - 10.5/10.8 MB 38.6 MB/s eta 0:00:01\n",
      "     --------------------------------------  10.5/10.8 MB 32.8 MB/s eta 0:00:01\n",
      "     --------------------------------------  10.8/10.8 MB 32.7 MB/s eta 0:00:01\n",
      "     --------------------------------------  10.8/10.8 MB 32.7 MB/s eta 0:00:01\n",
      "     --------------------------------------- 10.8/10.8 MB 23.3 MB/s eta 0:00:00\n",
      "Requirement already satisfied: numpy<2,>=1.22.4 in d:\\users\\eduardo\\anaconda3\\envs\\meuambiente\\lib\\site-packages (from pandas) (1.24.2)\n",
      "Requirement already satisfied: python-dateutil>=2.8.2 in d:\\users\\eduardo\\anaconda3\\envs\\meuambiente\\lib\\site-packages (from pandas) (2.8.2)\n",
      "Collecting pytz>=2020.1\n",
      "  Downloading pytz-2023.3.post1-py2.py3-none-any.whl (502 kB)\n",
      "     ---------------------------------------- 0.0/502.5 kB ? eta -:--:--\n",
      "     ---------------------------------------- 502.5/502.5 kB ? eta 0:00:00\n",
      "Collecting tzdata>=2022.1\n",
      "  Downloading tzdata-2023.3-py2.py3-none-any.whl (341 kB)\n",
      "     ---------------------------------------- 0.0/341.8 kB ? eta -:--:--\n",
      "     ------------------------------------- 341.8/341.8 kB 10.7 MB/s eta 0:00:00\n",
      "Requirement already satisfied: six>=1.5 in d:\\users\\eduardo\\anaconda3\\envs\\meuambiente\\lib\\site-packages (from python-dateutil>=2.8.2->pandas) (1.16.0)\n",
      "Installing collected packages: pytz, tzdata, pandas\n",
      "Successfully installed pandas-2.1.2 pytz-2023.3.post1 tzdata-2023.3\n",
      "Note: you may need to restart the kernel to use updated packages.\n"
     ]
    }
   ],
   "source": [
    "pip install pandas"
   ]
  },
  {
   "cell_type": "code",
   "execution_count": 16,
   "metadata": {},
   "outputs": [],
   "source": [
    "import pandas as pd\n",
    "import csv"
   ]
  },
  {
   "cell_type": "markdown",
   "metadata": {},
   "source": [
    "### Criando a Tabela usuário"
   ]
  },
  {
   "cell_type": "code",
   "execution_count": 8,
   "metadata": {},
   "outputs": [],
   "source": [
    "df_usuario = pd.DataFrame({'ID_Usuário': [1, 2, 3, 4, 5, 6, 7, 8, 9, 10],\n",
    "                          'Nome': ['João Silva', 'Maria Oliveira', 'Carlos Santos', 'Ana Souza', 'Pedro Lima',\n",
    "                                    'Juliana Pereira', 'Luiz Costa', 'Leandro Dionisio', 'Kevin Richard', 'Amanda Bonde'],\n",
    "                          'Código_Departamento': [567, 324, 324, 657, 567, 657, 215, 215, 215, 324],\n",
    "                          'CPF': ['123.456.789-01', '987.654.321-01', '456.789.012-34','789.012.345-67', '234.567.890-12',\n",
    "                                   ' 567.890.123-45', '890.123.456-78', '190.123.457-78', '823.123.456-78', '617.123.896-78'],\n",
    "                          'Email': ['joao@us.eosphoro.com', 'maria@us.eosphoro.com', 'carlos@us.eosphoro.com',\n",
    "                                     'ana@us.eosphoro.com', 'pedro@us.eosphoro.com', 'juliana@us.eosphoro.com',\n",
    "                                     'luiz@us.eosphoro.com', 'leandro@us.eosphoro.com', 'kevin@us.eosphoro.com',\n",
    "                                     'amanda@us.eosphoro.com'],\n",
    "                          'Cargo': ['Analista de TI', 'Gerente de Marketing', 'Gerente de Projetos', 'Analista de Redes',\n",
    "                                     'Suporte', 'Analista de Sistemas', 'Analista de Segurança', 'Técnico de Manutenção',\n",
    "                                     'Engenheiro de Produção', 'Designer de marketing']})\n",
    "\n"
   ]
  },
  {
   "cell_type": "markdown",
   "metadata": {},
   "source": [
    "### Criando a Tabela departamento"
   ]
  },
  {
   "cell_type": "code",
   "execution_count": 9,
   "metadata": {},
   "outputs": [],
   "source": [
    "df_departamento = pd.DataFrame({'Codigo': [145, 167, 567, 324, 234, 215, 657],\n",
    "                                'Nome_Departamento': ['Vendas', 'RH', 'TI', 'Marketing', 'Contabilidade', 'Produção',\n",
    "                                                      'Pesquisa'],\n",
    "                                'Descrição': ['Foco no em vendas', 'Recursos humanos', 'Tecnologia da Informação',\n",
    "                                              'Departamento de Marketing', 'Departamento de contabilidade',\n",
    "                                              'Departamento de produção', 'Pesquisas para desenvolvimento']})"
   ]
  },
  {
   "cell_type": "markdown",
   "metadata": {},
   "source": [
    "### Craindo a Tabela de chamado"
   ]
  },
  {
   "cell_type": "code",
   "execution_count": 11,
   "metadata": {},
   "outputs": [],
   "source": [
    "df_chamado = pd.DataFrame({'ID': [1, 2, 3, 4, 5, 6, 7],\n",
    "    'Título': ['Problema com Impressora', 'Erro no Software X', 'Solicitação de Novo Software', 'Problema na Rede',\n",
    "               'Ajuda com Senha', 'Atualização de Sistema', 'Problema de Hardware'],\n",
    "    'Descrição': ['Não está imprimindo', 'Falha ao iniciar', 'Instalação do Software Y', 'Conexão instável',\n",
    "                  'Esqueci minha senha', 'Solicitação de atualização', 'Falha no hardware'],\n",
    "    'Data de Abertura': ['2023-10-01', '2023-10-02', '2023-10-03', '2023-10-04', '2023-10-05', '2023-10-06',\n",
    "                         '2023-10-07'],\n",
    "    'Hora': ['10:15:00', '14:30:00', '09:45:00', '11:20:00', ' 16:00:00', '13:10:00', '08:00:00'],\n",
    "    'Status': ['Aberto', 'Em Andamento', 'Aberto', 'Fechado', 'Em Andamento', 'Aberto', 'Em Andamento'],\n",
    "    'ID do Usuário Solicitante': [7, 3, 5, 2, 1, 6, 7]})"
   ]
  },
  {
   "cell_type": "code",
   "execution_count": 15,
   "metadata": {},
   "outputs": [
    {
     "data": {
      "text/html": [
       "<div>\n",
       "<style scoped>\n",
       "    .dataframe tbody tr th:only-of-type {\n",
       "        vertical-align: middle;\n",
       "    }\n",
       "\n",
       "    .dataframe tbody tr th {\n",
       "        vertical-align: top;\n",
       "    }\n",
       "\n",
       "    .dataframe thead th {\n",
       "        text-align: right;\n",
       "    }\n",
       "</style>\n",
       "<table border=\"1\" class=\"dataframe\">\n",
       "  <thead>\n",
       "    <tr style=\"text-align: right;\">\n",
       "      <th></th>\n",
       "      <th>ID_Usuário</th>\n",
       "      <th>Nome</th>\n",
       "      <th>Código_Departamento</th>\n",
       "      <th>CPF</th>\n",
       "      <th>Email</th>\n",
       "      <th>Cargo</th>\n",
       "    </tr>\n",
       "  </thead>\n",
       "  <tbody>\n",
       "    <tr>\n",
       "      <th>0</th>\n",
       "      <td>1</td>\n",
       "      <td>João Silva</td>\n",
       "      <td>567</td>\n",
       "      <td>123.456.789-01</td>\n",
       "      <td>joao@us.eosphoro.com</td>\n",
       "      <td>Analista de TI</td>\n",
       "    </tr>\n",
       "    <tr>\n",
       "      <th>1</th>\n",
       "      <td>2</td>\n",
       "      <td>Maria Oliveira</td>\n",
       "      <td>324</td>\n",
       "      <td>987.654.321-01</td>\n",
       "      <td>maria@us.eosphoro.com</td>\n",
       "      <td>Gerente de Marketing</td>\n",
       "    </tr>\n",
       "    <tr>\n",
       "      <th>2</th>\n",
       "      <td>3</td>\n",
       "      <td>Carlos Santos</td>\n",
       "      <td>324</td>\n",
       "      <td>456.789.012-34</td>\n",
       "      <td>carlos@us.eosphoro.com</td>\n",
       "      <td>Gerente de Projetos</td>\n",
       "    </tr>\n",
       "    <tr>\n",
       "      <th>3</th>\n",
       "      <td>4</td>\n",
       "      <td>Ana Souza</td>\n",
       "      <td>657</td>\n",
       "      <td>789.012.345-67</td>\n",
       "      <td>ana@us.eosphoro.com</td>\n",
       "      <td>Analista de Redes</td>\n",
       "    </tr>\n",
       "    <tr>\n",
       "      <th>4</th>\n",
       "      <td>5</td>\n",
       "      <td>Pedro Lima</td>\n",
       "      <td>567</td>\n",
       "      <td>234.567.890-12</td>\n",
       "      <td>pedro@us.eosphoro.com</td>\n",
       "      <td>Suporte</td>\n",
       "    </tr>\n",
       "    <tr>\n",
       "      <th>5</th>\n",
       "      <td>6</td>\n",
       "      <td>Juliana Pereira</td>\n",
       "      <td>657</td>\n",
       "      <td>567.890.123-45</td>\n",
       "      <td>juliana@us.eosphoro.com</td>\n",
       "      <td>Analista de Sistemas</td>\n",
       "    </tr>\n",
       "    <tr>\n",
       "      <th>6</th>\n",
       "      <td>7</td>\n",
       "      <td>Luiz Costa</td>\n",
       "      <td>215</td>\n",
       "      <td>890.123.456-78</td>\n",
       "      <td>luiz@us.eosphoro.com</td>\n",
       "      <td>Analista de Segurança</td>\n",
       "    </tr>\n",
       "    <tr>\n",
       "      <th>7</th>\n",
       "      <td>8</td>\n",
       "      <td>Leandro Dionisio</td>\n",
       "      <td>215</td>\n",
       "      <td>190.123.457-78</td>\n",
       "      <td>leandro@us.eosphoro.com</td>\n",
       "      <td>Técnico de Manutenção</td>\n",
       "    </tr>\n",
       "    <tr>\n",
       "      <th>8</th>\n",
       "      <td>9</td>\n",
       "      <td>Kevin Richard</td>\n",
       "      <td>215</td>\n",
       "      <td>823.123.456-78</td>\n",
       "      <td>kevin@us.eosphoro.com</td>\n",
       "      <td>Engenheiro de Produção</td>\n",
       "    </tr>\n",
       "    <tr>\n",
       "      <th>9</th>\n",
       "      <td>10</td>\n",
       "      <td>Amanda Bonde</td>\n",
       "      <td>324</td>\n",
       "      <td>617.123.896-78</td>\n",
       "      <td>amanda@us.eosphoro.com</td>\n",
       "      <td>Designer de marketing</td>\n",
       "    </tr>\n",
       "  </tbody>\n",
       "</table>\n",
       "</div>"
      ],
      "text/plain": [
       "   ID_Usuário              Nome  Código_Departamento              CPF  \\\n",
       "0           1        João Silva                  567   123.456.789-01   \n",
       "1           2    Maria Oliveira                  324   987.654.321-01   \n",
       "2           3     Carlos Santos                  324   456.789.012-34   \n",
       "3           4         Ana Souza                  657   789.012.345-67   \n",
       "4           5        Pedro Lima                  567   234.567.890-12   \n",
       "5           6   Juliana Pereira                  657   567.890.123-45   \n",
       "6           7        Luiz Costa                  215   890.123.456-78   \n",
       "7           8  Leandro Dionisio                  215   190.123.457-78   \n",
       "8           9     Kevin Richard                  215   823.123.456-78   \n",
       "9          10      Amanda Bonde                  324   617.123.896-78   \n",
       "\n",
       "                     Email                   Cargo  \n",
       "0     joao@us.eosphoro.com          Analista de TI  \n",
       "1    maria@us.eosphoro.com    Gerente de Marketing  \n",
       "2   carlos@us.eosphoro.com     Gerente de Projetos  \n",
       "3      ana@us.eosphoro.com       Analista de Redes  \n",
       "4    pedro@us.eosphoro.com                 Suporte  \n",
       "5  juliana@us.eosphoro.com    Analista de Sistemas  \n",
       "6     luiz@us.eosphoro.com   Analista de Segurança  \n",
       "7  leandro@us.eosphoro.com   Técnico de Manutenção  \n",
       "8    kevin@us.eosphoro.com  Engenheiro de Produção  \n",
       "9   amanda@us.eosphoro.com   Designer de marketing  "
      ]
     },
     "execution_count": 15,
     "metadata": {},
     "output_type": "execute_result"
    }
   ],
   "source": [
    "df_usuario"
   ]
  },
  {
   "cell_type": "markdown",
   "metadata": {},
   "source": [
    "### Gerando os csvs"
   ]
  },
  {
   "cell_type": "code",
   "execution_count": 18,
   "metadata": {},
   "outputs": [],
   "source": [
    "df_usuario.to_csv('usuarios.csv', index=False)\n",
    "df_departamento.to_csv('departamentos.csv', index=False)\n",
    "df_chamado.to_csv('chamados.csv', index=False)"
   ]
  }
 ],
 "metadata": {
  "kernelspec": {
   "display_name": "meuambiente",
   "language": "python",
   "name": "python3"
  },
  "language_info": {
   "codemirror_mode": {
    "name": "ipython",
    "version": 3
   },
   "file_extension": ".py",
   "mimetype": "text/x-python",
   "name": "python",
   "nbconvert_exporter": "python",
   "pygments_lexer": "ipython3",
   "version": "3.9.0"
  }
 },
 "nbformat": 4,
 "nbformat_minor": 2
}
